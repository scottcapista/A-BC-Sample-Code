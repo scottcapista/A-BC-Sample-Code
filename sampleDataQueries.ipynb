{
 "cells": [
  {
   "cell_type": "code",
   "execution_count": 1,
   "id": "b2678852-a003-4af6-9eba-6858d170ab04",
   "metadata": {},
   "outputs": [],
   "source": [
    "from pymongo.mongo_client import MongoClient\n",
    "from pymongo.server_api import ServerApi\n",
    "from pprint import pprint\n",
    "from bson import ObjectId"
   ]
  },
  {
   "cell_type": "code",
   "execution_count": 2,
   "id": "b56e7cf2-f320-41c8-8256-7e02483a52b2",
   "metadata": {},
   "outputs": [],
   "source": [
    "##uri string with username password\n",
    "uri = "
   ]
  },
  {
   "cell_type": "code",
   "execution_count": null,
   "id": "581e432f-cee2-4c5b-8730-be40d3a26f65",
   "metadata": {},
   "outputs": [],
   "source": [
    "\n",
    "# Create a new client and connect to the server\n",
    "client = MongoClient(uri, server_api=ServerApi('1'))\n",
    "# Send a ping to confirm a successful connection\n",
    "try:\n",
    "    client.admin.command('ping')\n",
    "    print(\"Pinged your deployment. You successfully connected to MongoDB!\")\n",
    "except Exception as e:\n",
    "    print(e)"
   ]
  },
  {
   "cell_type": "code",
   "execution_count": 4,
   "id": "41cda4de-81d7-4831-8282-41e698768459",
   "metadata": {},
   "outputs": [],
   "source": [
    "sample_airbnb = client[\"sample_airbnb\"]\n",
    "listingsAndReviews = sample_airbnb[\"listingsAndReviews\"]"
   ]
  },
  {
   "cell_type": "code",
   "execution_count": 1,
   "id": "148f3250-4e8b-4ef4-9590-58e4f8537540",
   "metadata": {},
   "outputs": [
    {
     "ename": "NameError",
     "evalue": "name 'listingsAndReviews' is not defined",
     "output_type": "error",
     "traceback": [
      "\u001b[0;31m---------------------------------------------------------------------------\u001b[0m",
      "\u001b[0;31mNameError\u001b[0m                                 Traceback (most recent call last)",
      "Cell \u001b[0;32mIn[1], line 7\u001b[0m\n\u001b[1;32m      1\u001b[0m query \u001b[38;5;241m=\u001b[39m {\n\u001b[1;32m      2\u001b[0m     \u001b[38;5;124m\"\u001b[39m\u001b[38;5;124maddress.country1\u001b[39m\u001b[38;5;124m\"\u001b[39m: \u001b[38;5;124m'\u001b[39m\u001b[38;5;124mPortugal\u001b[39m\u001b[38;5;124m'\u001b[39m\n\u001b[1;32m      3\u001b[0m }\n\u001b[1;32m      4\u001b[0m project \u001b[38;5;241m=\u001b[39m {\n\u001b[1;32m      5\u001b[0m     \u001b[38;5;124m\"\u001b[39m\u001b[38;5;124maddress.location\u001b[39m\u001b[38;5;124m\"\u001b[39m:\u001b[38;5;241m1\u001b[39m\n\u001b[1;32m      6\u001b[0m }\n\u001b[0;32m----> 7\u001b[0m \u001b[38;5;28;01mfor\u001b[39;00m result \u001b[38;5;129;01min\u001b[39;00m \u001b[43mlistingsAndReviews\u001b[49m\u001b[38;5;241m.\u001b[39mfind(query,project):\n\u001b[1;32m      8\u001b[0m   pprint(result)\n",
      "\u001b[0;31mNameError\u001b[0m: name 'listingsAndReviews' is not defined"
     ]
    }
   ],
   "source": [
    "query = {\n",
    "    \"address.country1\": 'Portugal'\n",
    "}\n",
    "project = {\n",
    "    \"address.location\":1\n",
    "}\n",
    "for result in listingsAndReviews.find(query,project):\n",
    "  pprint(result)"
   ]
  },
  {
   "cell_type": "code",
   "execution_count": 13,
   "id": "7860fb5a-c5ec-448b-bbe5-e49c441a09db",
   "metadata": {},
   "outputs": [
    {
     "name": "stdout",
     "output_type": "stream",
     "text": [
      "{'_id': '', 'count': 555}\n"
     ]
    }
   ],
   "source": [
    "match = {\n",
    "    '$match': {\n",
    "        'address.country': 'Portugal'\n",
    "    }\n",
    "}\n",
    "group = {\n",
    "    '$group': {\n",
    "        '_id': '', \n",
    "        'count': {\n",
    "            '$sum': 1\n",
    "        }\n",
    "    }\n",
    "}\n",
    "\n",
    "pipeline = [match, group]\n",
    "for result in listingsAndReviews.aggregate(pipeline):\n",
    "  pprint(result)"
   ]
  },
  {
   "cell_type": "code",
   "execution_count": 14,
   "id": "b676ddc0-0c4b-495a-b1e2-6f090713c5f7",
   "metadata": {},
   "outputs": [],
   "source": [
    "sample_analytics = client[\"sample_analytics\"]\n",
    "customers = sample_analytics[\"customers\"]"
   ]
  },
  {
   "cell_type": "code",
   "execution_count": 16,
   "id": "5b170ca1-98c3-48b3-9730-add87f1e1f37",
   "metadata": {},
   "outputs": [
    {
     "name": "stdout",
     "output_type": "stream",
     "text": [
      "{'_id': ObjectId('5ca4bbcea2dd94ee58162a68'),\n",
      " 'accounts': [371138, 324287, 276528, 332179, 422649, 387979],\n",
      " 'active': True,\n",
      " 'address': '9286 Bethany Glens\\nVasqueztown, CO 22939',\n",
      " 'birthdate': datetime.datetime(1977, 3, 2, 2, 20, 31),\n",
      " 'email': 'arroyocolton@gmail.com',\n",
      " 'name': 'Elizabeth Ray',\n",
      " 'tier_and_details': {'0df078f33aa74a2e9696e0520c1a828a': {'active': True,\n",
      "                                                           'benefits': ['sports '\n",
      "                                                                        'tickets'],\n",
      "                                                           'id': '0df078f33aa74a2e9696e0520c1a828a',\n",
      "                                                           'tier': 'Bronze'},\n",
      "                      '699456451cc24f028d2aa99d7534c219': {'active': True,\n",
      "                                                           'benefits': ['24 '\n",
      "                                                                        'hour '\n",
      "                                                                        'dedicated '\n",
      "                                                                        'line',\n",
      "                                                                        'concierge '\n",
      "                                                                        'services'],\n",
      "                                                           'id': '699456451cc24f028d2aa99d7534c219',\n",
      "                                                           'tier': 'Bronze'}},\n",
      " 'username': 'fmiller'}\n"
     ]
    }
   ],
   "source": [
    "\n",
    "match = {\n",
    "    '$match': {\n",
    "        '_id': {\"$in\":[ObjectId('5ca4bbcea2dd94ee58162a68')]}\n",
    "    }\n",
    "}\n",
    "\n",
    "pipeline = [match]\n",
    "for result in customers.aggregate(pipeline):\n",
    "  pprint(result)"
   ]
  },
  {
   "cell_type": "code",
   "execution_count": 17,
   "id": "95b32c7d-1edd-48a3-b6b3-8a88e45cb05e",
   "metadata": {},
   "outputs": [
    {
     "name": "stdout",
     "output_type": "stream",
     "text": [
      "{'_id': ObjectId('5ca4bbcea2dd94ee58162a68'),\n",
      " 'accounts': [{'_id': ObjectId('5ca4bbc7a2dd94ee5816238c'),\n",
      "               'account_id': 371138,\n",
      "               'limit': 9000,\n",
      "               'products': ['Derivatives', 'InvestmentStock']},\n",
      "              {'_id': ObjectId('5ca4bbc7a2dd94ee581623a9'),\n",
      "               'account_id': 324287,\n",
      "               'limit': 10000,\n",
      "               'products': ['Commodity',\n",
      "                            'CurrencyService',\n",
      "                            'Derivatives',\n",
      "                            'InvestmentStock']},\n",
      "              {'_id': ObjectId('5ca4bbc7a2dd94ee581623ac'),\n",
      "               'account_id': 276528,\n",
      "               'limit': 10000,\n",
      "               'products': ['InvestmentFund', 'InvestmentStock']},\n",
      "              {'_id': ObjectId('5ca4bbc7a2dd94ee58162400'),\n",
      "               'account_id': 332179,\n",
      "               'limit': 10000,\n",
      "               'products': ['Commodity',\n",
      "                            'CurrencyService',\n",
      "                            'InvestmentFund',\n",
      "                            'Brokerage',\n",
      "                            'InvestmentStock']},\n",
      "              {'_id': ObjectId('5ca4bbc7a2dd94ee58162402'),\n",
      "               'account_id': 422649,\n",
      "               'limit': 10000,\n",
      "               'products': ['CurrencyService', 'InvestmentStock']},\n",
      "              {'_id': ObjectId('5ca4bbc7a2dd94ee58162415'),\n",
      "               'account_id': 387979,\n",
      "               'limit': 10000,\n",
      "               'products': ['Brokerage',\n",
      "                            'Derivatives',\n",
      "                            'InvestmentFund',\n",
      "                            'Commodity',\n",
      "                            'InvestmentStock']}],\n",
      " 'active': True,\n",
      " 'address': '9286 Bethany Glens\\nVasqueztown, CO 22939',\n",
      " 'birthdate': datetime.datetime(1977, 3, 2, 2, 20, 31),\n",
      " 'email': 'arroyocolton@gmail.com',\n",
      " 'name': 'Elizabeth Ray',\n",
      " 'tier_and_details': {'0df078f33aa74a2e9696e0520c1a828a': {'active': True,\n",
      "                                                           'benefits': ['sports '\n",
      "                                                                        'tickets'],\n",
      "                                                           'id': '0df078f33aa74a2e9696e0520c1a828a',\n",
      "                                                           'tier': 'Bronze'},\n",
      "                      '699456451cc24f028d2aa99d7534c219': {'active': True,\n",
      "                                                           'benefits': ['24 '\n",
      "                                                                        'hour '\n",
      "                                                                        'dedicated '\n",
      "                                                                        'line',\n",
      "                                                                        'concierge '\n",
      "                                                                        'services'],\n",
      "                                                           'id': '699456451cc24f028d2aa99d7534c219',\n",
      "                                                           'tier': 'Bronze'}},\n",
      " 'username': 'fmiller'}\n"
     ]
    }
   ],
   "source": [
    "lookup = {\n",
    "    '$lookup': {\n",
    "        'from': 'accounts', \n",
    "        'localField': 'accounts', \n",
    "        'foreignField': 'account_id', \n",
    "        'as': 'accounts'\n",
    "    }\n",
    "}\n",
    "pipeline = [match, lookup]\n",
    "for result in customers.aggregate(pipeline):\n",
    "  pprint(result)"
   ]
  },
  {
   "cell_type": "code",
   "execution_count": 19,
   "id": "0c34b01b-6de7-4695-ba06-2c64eb3110c9",
   "metadata": {},
   "outputs": [],
   "source": [
    "sample_mflix = client[\"sample_mflix\"]\n",
    "embedded_movies = sample_mflix[\"embedded_movies\"]"
   ]
  },
  {
   "cell_type": "code",
   "execution_count": null,
   "id": "26cadd95-8106-4128-9d07-25ac9b5ae935",
   "metadata": {},
   "outputs": [],
   "source": [
    "\n",
    "\n",
    "pipeline = [match, lookup]\n",
    "for result in embedded_movies.aggregate(pipeline):\n",
    "  pprint(result)"
   ]
  }
 ],
 "metadata": {
  "kernelspec": {
   "display_name": "Python 3 (ipykernel)",
   "language": "python",
   "name": "python3"
  },
  "language_info": {
   "codemirror_mode": {
    "name": "ipython",
    "version": 3
   },
   "file_extension": ".py",
   "mimetype": "text/x-python",
   "name": "python",
   "nbconvert_exporter": "python",
   "pygments_lexer": "ipython3",
   "version": "3.10.1"
  }
 },
 "nbformat": 4,
 "nbformat_minor": 5
}
